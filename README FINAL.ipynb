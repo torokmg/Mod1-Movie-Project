{
 "cells": [
  {
   "cell_type": "markdown",
   "metadata": {},
   "source": [
    "# Module 1 Project: Microsoft Movie Studio"
   ]
  },
  {
   "cell_type": "markdown",
   "metadata": {},
   "source": [
    "* **Student name:** Matt Torok\n",
    "\n",
    "* **Student pace:** Full Time\n",
    "\n",
    "* **Instructor name:** Amber Yandow\n",
    "\n",
    "* **Blog post URL:**\n",
    "\n"
   ]
  },
  {
   "cell_type": "markdown",
   "metadata": {},
   "source": [
    "## Backround"
   ]
  },
  {
   "cell_type": "markdown",
   "metadata": {},
   "source": [
    "The goal of this project was to help Microsoft open a new movie studio.  This was accomplished by analyzing movie data and creating visualizations with this data.  The resulting visulatizions were put into a presentation to show the client my recomendations."
   ]
  },
  {
   "cell_type": "markdown",
   "metadata": {},
   "source": [
    "## Date and Assumptions"
   ]
  },
  {
   "cell_type": "markdown",
   "metadata": {},
   "source": [
    " **tn.movie_budgets.csv** \n",
    " Taken from The-Numbers movie database.  Used to get release date, budget, and profit data for each movie \n",
    "  "
   ]
  },
  {
   "cell_type": "markdown",
   "metadata": {},
   "source": [
    "**title.basics.csv** Taken from IMDB movie database. Used to get genre data for each movie"
   ]
  },
  {
   "cell_type": "markdown",
   "metadata": {},
   "source": [
    "**Spring** is defined as April and May\n",
    "\n",
    "**Summer** is defined as June, July, August, September\n",
    "\n",
    "**Fall** is defined as October and Novemeber\n",
    "\n",
    "**Winter** is defined as December, January, February, March"
   ]
  },
  {
   "cell_type": "markdown",
   "metadata": {},
   "source": [
    "## Questions"
   ]
  },
  {
   "cell_type": "markdown",
   "metadata": {},
   "source": [
    "* What genres of movies are the most profitable?\n",
    "* What time of year should individual genres be released?\n",
    "* What time of year do movies overall tend to perform best over the last decade?"
   ]
  },
  {
   "cell_type": "markdown",
   "metadata": {},
   "source": [
    "### What genres of movies are the most profitable?"
   ]
  },
  {
   "cell_type": "markdown",
   "metadata": {},
   "source": [
    "**Method:** Created two charts for this question.  The first chart was to see which movie genres showed up most often in the top 1000 most profitable movies.  The second chart showed the average profit of each genre using the profits of the top 1000 movies"
   ]
  },
  {
   "cell_type": "markdown",
   "metadata": {},
   "source": [
    "**Results:** The first chart showed that the three genres that showed up the most were Drama, Comedy, and Action.  The second chart showed that three most profitable genres were SciFi, Adventure, and Animation"
   ]
  },
  {
   "cell_type": "markdown",
   "metadata": {},
   "source": [
    "**Recommendation:** I would recommend making an adventure movie based on the returned data. Adventure movies have the second highest average profit while having the 4th highest count for genres of the top 1000 movies.  Even though SciFi movies show the highest average profit, there are very few SciFi movies that show up in the top 1000 movies.  On the other hand, even though Drama movies show up the most in the top 1000 movie, their average profit overall is quite low."
   ]
  },
  {
   "cell_type": "markdown",
   "metadata": {},
   "source": [
    "### What time of year should invidual genres be released?"
   ]
  },
  {
   "cell_type": "markdown",
   "metadata": {},
   "source": [
    "**Method:** Created one chart for this question.  The purpose of this chart was to show the average profit by season for each genre."
   ]
  },
  {
   "cell_type": "markdown",
   "metadata": {},
   "source": [
    "**Results:** The chart showed that these were the seasons where each genre performed best: \n",
    "            * Spring: Action, Adventure, Crime, Mystery, SciFi, Thriller, War  \n",
    "            * Summer: Animation, Comedy, History\n",
    "            * Fall: Biography, Documentary, Drama, Music, Sport\n",
    "            * Winter: Family, Fantasy, Horror, Musical, Romance, Western"
   ]
  },
  {
   "cell_type": "markdown",
   "metadata": {},
   "source": [
    "**Recommendation**: I would recommend using the chart and the above results when deciding when to release a specific genre of movie.  Using my recomended genre of Adventure, I would recommend releasing it during the Spring since the Spring shows the highest average profit."
   ]
  },
  {
   "cell_type": "markdown",
   "metadata": {},
   "source": [
    "### What time of year do movies overall tend to perform best over the last decade?"
   ]
  },
  {
   "cell_type": "markdown",
   "metadata": {},
   "source": [
    "**Method:** Created two charts for this question.  The first chart was to see the average profit of all movies by season for each year of the last decade.  The second chart was to see the average profit of all movies by month for each year of the last decade."
   ]
  },
  {
   "cell_type": "markdown",
   "metadata": {},
   "source": [
    "**Results:** The first chart showed that the the order of the seasons by average profit for each year was:\n",
    "             * 2010: Summer, Fall, Winter, Spring \n",
    "             * 2011: Spring, Winter, Summer, Fall\n",
    "             * 2012: Fall, Winter, Summer, Spring\n",
    "             * 2013: Summer, Spring, Fall, Winter\n",
    "             * 2014: Spring, Fall, Summer, Winter\n",
    "             * 2015: Spring, Summer, Fall, Winter\n",
    "             * 2016: Winter, Summer, Spring, Fall\n",
    "             * 2017: Summer, Fall, Spring, Winter\n",
    "             * 2018: Spring, Fall, Summer, Winter\n",
    "             * 2019: Spring, Winter, Fall, Summer\n",
    "             \n",
    "         The second chart showed that the top 3 months for each year were:\n",
    "         \n",
    "             * 2010: July, June, November\n",
    "             * 2011: December, June, May\n",
    "             * 2012: July, November, May\n",
    "             * 2013: June, July, May\n",
    "             * 2014: May, June, November\n",
    "             * 2015: June, July, May\n",
    "             * 2016: May, July, March\n",
    "             * 2017: November, June, July\n",
    "             * 2018: April, June, February\n",
    "             * 2019: March, June, November\n",
    "             "
   ]
  },
  {
   "cell_type": "markdown",
   "metadata": {},
   "source": [
    "**Recommendation:** I would recommend releasing movies in the Spring based on the fact that in 5 of the last 10 years, the highest profit was made in the Spring.  Based off the monthly chart, I would recommend that these movies get released in May if releasing in the Spring.  If releasing in the summer I would reommend either June or July.  If releasing in the fall then November is your best bet.  Finally, the best month in the winter is March."
   ]
  },
  {
   "cell_type": "code",
   "execution_count": null,
   "metadata": {},
   "outputs": [],
   "source": []
  }
 ],
 "metadata": {
  "kernelspec": {
   "display_name": "Python 3",
   "language": "python",
   "name": "python3"
  },
  "language_info": {
   "codemirror_mode": {
    "name": "ipython",
    "version": 3
   },
   "file_extension": ".py",
   "mimetype": "text/x-python",
   "name": "python",
   "nbconvert_exporter": "python",
   "pygments_lexer": "ipython3",
   "version": "3.6.9"
  }
 },
 "nbformat": 4,
 "nbformat_minor": 2
}
